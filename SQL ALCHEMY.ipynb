{
 "cells": [
  {
   "cell_type": "markdown",
   "id": "cc5b024b",
   "metadata": {},
   "source": [
    "## SQL ALCHEMY\n"
   ]
  },
  {
   "cell_type": "code",
   "execution_count": 19,
   "id": "18503a42",
   "metadata": {},
   "outputs": [],
   "source": [
    "from sqlalchemy import create_engine,or_\n",
    "import pandas as pd\n",
    "from sqlalchemy.orm import sessionmaker\n",
    "from sqlalchemy.ext.declarative import declarative_base"
   ]
  },
  {
   "cell_type": "code",
   "execution_count": 2,
   "id": "6723b0b3",
   "metadata": {},
   "outputs": [],
   "source": [
    "SERVER = 'DESKTOP-V20Q7QI'\n",
    "DATABASE = 'sample'\n",
    "DRIVER = 'SQL Server Native Client 11.0'\n",
    "DATABASE_CONNECTION = f'mssql://@{SERVER}/{DATABASE}?driver={DRIVER}'"
   ]
  },
  {
   "cell_type": "code",
   "execution_count": 3,
   "id": "5590c7cc",
   "metadata": {},
   "outputs": [],
   "source": [
    "engine = create_engine(DATABASE_CONNECTION)\n",
    "connection = engine.connect()"
   ]
  },
  {
   "cell_type": "markdown",
   "id": "f79ddc19",
   "metadata": {},
   "source": [
    "### running a query to check the connection"
   ]
  },
  {
   "cell_type": "code",
   "execution_count": 4,
   "id": "dd5ef62a",
   "metadata": {},
   "outputs": [],
   "source": [
    "data = pd.read_sql_query(\"select * from [sample].[dbo].[Market_Basket_Optimisation$]\", connection)"
   ]
  },
  {
   "cell_type": "code",
   "execution_count": 5,
   "id": "7417772c",
   "metadata": {},
   "outputs": [
    {
     "data": {
      "text/html": [
       "<div>\n",
       "<style scoped>\n",
       "    .dataframe tbody tr th:only-of-type {\n",
       "        vertical-align: middle;\n",
       "    }\n",
       "\n",
       "    .dataframe tbody tr th {\n",
       "        vertical-align: top;\n",
       "    }\n",
       "\n",
       "    .dataframe thead th {\n",
       "        text-align: right;\n",
       "    }\n",
       "</style>\n",
       "<table border=\"1\" class=\"dataframe\">\n",
       "  <thead>\n",
       "    <tr style=\"text-align: right;\">\n",
       "      <th></th>\n",
       "      <th>shrimp</th>\n",
       "      <th>almonds</th>\n",
       "      <th>avocado</th>\n",
       "      <th>vegetables mix</th>\n",
       "      <th>green grapes</th>\n",
       "      <th>whole weat flour</th>\n",
       "      <th>yams</th>\n",
       "      <th>cottage cheese</th>\n",
       "      <th>energy drink</th>\n",
       "      <th>tomato juice</th>\n",
       "      <th>low fat yogurt</th>\n",
       "      <th>green tea</th>\n",
       "      <th>honey</th>\n",
       "      <th>salad</th>\n",
       "      <th>mineral water</th>\n",
       "      <th>salmon</th>\n",
       "      <th>antioxydant juice</th>\n",
       "      <th>frozen smoothie</th>\n",
       "      <th>spinach</th>\n",
       "      <th>olive oil</th>\n",
       "    </tr>\n",
       "  </thead>\n",
       "  <tbody>\n",
       "    <tr>\n",
       "      <th>0</th>\n",
       "      <td>milk</td>\n",
       "      <td>butter</td>\n",
       "      <td>green grapes</td>\n",
       "      <td>chocolate</td>\n",
       "      <td>escalope</td>\n",
       "      <td>None</td>\n",
       "      <td>None</td>\n",
       "      <td>None</td>\n",
       "      <td>None</td>\n",
       "      <td>None</td>\n",
       "      <td>None</td>\n",
       "      <td>None</td>\n",
       "      <td>None</td>\n",
       "      <td>None</td>\n",
       "      <td>None</td>\n",
       "      <td>None</td>\n",
       "      <td>None</td>\n",
       "      <td>None</td>\n",
       "      <td>None</td>\n",
       "      <td>None</td>\n",
       "    </tr>\n",
       "    <tr>\n",
       "      <th>1</th>\n",
       "      <td>burgers</td>\n",
       "      <td>ground beef</td>\n",
       "      <td>spaghetti</td>\n",
       "      <td>mineral water</td>\n",
       "      <td>oil</td>\n",
       "      <td>barbecue sauce</td>\n",
       "      <td>yogurt cake</td>\n",
       "      <td>low fat yogurt</td>\n",
       "      <td>None</td>\n",
       "      <td>None</td>\n",
       "      <td>None</td>\n",
       "      <td>None</td>\n",
       "      <td>None</td>\n",
       "      <td>None</td>\n",
       "      <td>None</td>\n",
       "      <td>None</td>\n",
       "      <td>None</td>\n",
       "      <td>None</td>\n",
       "      <td>None</td>\n",
       "      <td>None</td>\n",
       "    </tr>\n",
       "    <tr>\n",
       "      <th>2</th>\n",
       "      <td>escalope</td>\n",
       "      <td>None</td>\n",
       "      <td>None</td>\n",
       "      <td>None</td>\n",
       "      <td>None</td>\n",
       "      <td>None</td>\n",
       "      <td>None</td>\n",
       "      <td>None</td>\n",
       "      <td>None</td>\n",
       "      <td>None</td>\n",
       "      <td>None</td>\n",
       "      <td>None</td>\n",
       "      <td>None</td>\n",
       "      <td>None</td>\n",
       "      <td>None</td>\n",
       "      <td>None</td>\n",
       "      <td>None</td>\n",
       "      <td>None</td>\n",
       "      <td>None</td>\n",
       "      <td>None</td>\n",
       "    </tr>\n",
       "    <tr>\n",
       "      <th>3</th>\n",
       "      <td>champagne</td>\n",
       "      <td>None</td>\n",
       "      <td>None</td>\n",
       "      <td>None</td>\n",
       "      <td>None</td>\n",
       "      <td>None</td>\n",
       "      <td>None</td>\n",
       "      <td>None</td>\n",
       "      <td>None</td>\n",
       "      <td>None</td>\n",
       "      <td>None</td>\n",
       "      <td>None</td>\n",
       "      <td>None</td>\n",
       "      <td>None</td>\n",
       "      <td>None</td>\n",
       "      <td>None</td>\n",
       "      <td>None</td>\n",
       "      <td>None</td>\n",
       "      <td>None</td>\n",
       "      <td>None</td>\n",
       "    </tr>\n",
       "    <tr>\n",
       "      <th>4</th>\n",
       "      <td>carrots</td>\n",
       "      <td>None</td>\n",
       "      <td>None</td>\n",
       "      <td>None</td>\n",
       "      <td>None</td>\n",
       "      <td>None</td>\n",
       "      <td>None</td>\n",
       "      <td>None</td>\n",
       "      <td>None</td>\n",
       "      <td>None</td>\n",
       "      <td>None</td>\n",
       "      <td>None</td>\n",
       "      <td>None</td>\n",
       "      <td>None</td>\n",
       "      <td>None</td>\n",
       "      <td>None</td>\n",
       "      <td>None</td>\n",
       "      <td>None</td>\n",
       "      <td>None</td>\n",
       "      <td>None</td>\n",
       "    </tr>\n",
       "    <tr>\n",
       "      <th>...</th>\n",
       "      <td>...</td>\n",
       "      <td>...</td>\n",
       "      <td>...</td>\n",
       "      <td>...</td>\n",
       "      <td>...</td>\n",
       "      <td>...</td>\n",
       "      <td>...</td>\n",
       "      <td>...</td>\n",
       "      <td>...</td>\n",
       "      <td>...</td>\n",
       "      <td>...</td>\n",
       "      <td>...</td>\n",
       "      <td>...</td>\n",
       "      <td>...</td>\n",
       "      <td>...</td>\n",
       "      <td>...</td>\n",
       "      <td>...</td>\n",
       "      <td>...</td>\n",
       "      <td>...</td>\n",
       "      <td>...</td>\n",
       "    </tr>\n",
       "    <tr>\n",
       "      <th>7495</th>\n",
       "      <td>butter</td>\n",
       "      <td>light mayo</td>\n",
       "      <td>fresh bread</td>\n",
       "      <td>None</td>\n",
       "      <td>None</td>\n",
       "      <td>None</td>\n",
       "      <td>None</td>\n",
       "      <td>None</td>\n",
       "      <td>None</td>\n",
       "      <td>None</td>\n",
       "      <td>None</td>\n",
       "      <td>None</td>\n",
       "      <td>None</td>\n",
       "      <td>None</td>\n",
       "      <td>None</td>\n",
       "      <td>None</td>\n",
       "      <td>None</td>\n",
       "      <td>None</td>\n",
       "      <td>None</td>\n",
       "      <td>None</td>\n",
       "    </tr>\n",
       "    <tr>\n",
       "      <th>7496</th>\n",
       "      <td>burgers</td>\n",
       "      <td>frozen vegetables</td>\n",
       "      <td>eggs</td>\n",
       "      <td>french fries</td>\n",
       "      <td>magazines</td>\n",
       "      <td>green tea</td>\n",
       "      <td>None</td>\n",
       "      <td>None</td>\n",
       "      <td>None</td>\n",
       "      <td>None</td>\n",
       "      <td>None</td>\n",
       "      <td>None</td>\n",
       "      <td>None</td>\n",
       "      <td>None</td>\n",
       "      <td>None</td>\n",
       "      <td>None</td>\n",
       "      <td>None</td>\n",
       "      <td>None</td>\n",
       "      <td>None</td>\n",
       "      <td>None</td>\n",
       "    </tr>\n",
       "    <tr>\n",
       "      <th>7497</th>\n",
       "      <td>chicken</td>\n",
       "      <td>None</td>\n",
       "      <td>None</td>\n",
       "      <td>None</td>\n",
       "      <td>None</td>\n",
       "      <td>None</td>\n",
       "      <td>None</td>\n",
       "      <td>None</td>\n",
       "      <td>None</td>\n",
       "      <td>None</td>\n",
       "      <td>None</td>\n",
       "      <td>None</td>\n",
       "      <td>None</td>\n",
       "      <td>None</td>\n",
       "      <td>None</td>\n",
       "      <td>None</td>\n",
       "      <td>None</td>\n",
       "      <td>None</td>\n",
       "      <td>None</td>\n",
       "      <td>None</td>\n",
       "    </tr>\n",
       "    <tr>\n",
       "      <th>7498</th>\n",
       "      <td>escalope</td>\n",
       "      <td>green tea</td>\n",
       "      <td>None</td>\n",
       "      <td>None</td>\n",
       "      <td>None</td>\n",
       "      <td>None</td>\n",
       "      <td>None</td>\n",
       "      <td>None</td>\n",
       "      <td>None</td>\n",
       "      <td>None</td>\n",
       "      <td>None</td>\n",
       "      <td>None</td>\n",
       "      <td>None</td>\n",
       "      <td>None</td>\n",
       "      <td>None</td>\n",
       "      <td>None</td>\n",
       "      <td>None</td>\n",
       "      <td>None</td>\n",
       "      <td>None</td>\n",
       "      <td>None</td>\n",
       "    </tr>\n",
       "    <tr>\n",
       "      <th>7499</th>\n",
       "      <td>eggs</td>\n",
       "      <td>frozen smoothie</td>\n",
       "      <td>yogurt cake</td>\n",
       "      <td>low fat yogurt</td>\n",
       "      <td>None</td>\n",
       "      <td>None</td>\n",
       "      <td>None</td>\n",
       "      <td>None</td>\n",
       "      <td>None</td>\n",
       "      <td>None</td>\n",
       "      <td>None</td>\n",
       "      <td>None</td>\n",
       "      <td>None</td>\n",
       "      <td>None</td>\n",
       "      <td>None</td>\n",
       "      <td>None</td>\n",
       "      <td>None</td>\n",
       "      <td>None</td>\n",
       "      <td>None</td>\n",
       "      <td>None</td>\n",
       "    </tr>\n",
       "  </tbody>\n",
       "</table>\n",
       "<p>7500 rows × 20 columns</p>\n",
       "</div>"
      ],
      "text/plain": [
       "         shrimp            almonds       avocado  vegetables mix green grapes  \\\n",
       "0          milk             butter  green grapes       chocolate     escalope   \n",
       "1       burgers        ground beef     spaghetti   mineral water          oil   \n",
       "2      escalope               None          None            None         None   \n",
       "3     champagne               None          None            None         None   \n",
       "4       carrots               None          None            None         None   \n",
       "...         ...                ...           ...             ...          ...   \n",
       "7495     butter         light mayo   fresh bread            None         None   \n",
       "7496    burgers  frozen vegetables          eggs    french fries    magazines   \n",
       "7497    chicken               None          None            None         None   \n",
       "7498   escalope          green tea          None            None         None   \n",
       "7499       eggs    frozen smoothie   yogurt cake  low fat yogurt         None   \n",
       "\n",
       "     whole weat flour         yams  cottage cheese energy drink tomato juice  \\\n",
       "0                None         None            None         None         None   \n",
       "1      barbecue sauce  yogurt cake  low fat yogurt         None         None   \n",
       "2                None         None            None         None         None   \n",
       "3                None         None            None         None         None   \n",
       "4                None         None            None         None         None   \n",
       "...               ...          ...             ...          ...          ...   \n",
       "7495             None         None            None         None         None   \n",
       "7496        green tea         None            None         None         None   \n",
       "7497             None         None            None         None         None   \n",
       "7498             None         None            None         None         None   \n",
       "7499             None         None            None         None         None   \n",
       "\n",
       "     low fat yogurt green tea honey salad mineral water salmon  \\\n",
       "0              None      None  None  None          None   None   \n",
       "1              None      None  None  None          None   None   \n",
       "2              None      None  None  None          None   None   \n",
       "3              None      None  None  None          None   None   \n",
       "4              None      None  None  None          None   None   \n",
       "...             ...       ...   ...   ...           ...    ...   \n",
       "7495           None      None  None  None          None   None   \n",
       "7496           None      None  None  None          None   None   \n",
       "7497           None      None  None  None          None   None   \n",
       "7498           None      None  None  None          None   None   \n",
       "7499           None      None  None  None          None   None   \n",
       "\n",
       "     antioxydant juice frozen smoothie spinach olive oil  \n",
       "0                 None            None    None      None  \n",
       "1                 None            None    None      None  \n",
       "2                 None            None    None      None  \n",
       "3                 None            None    None      None  \n",
       "4                 None            None    None      None  \n",
       "...                ...             ...     ...       ...  \n",
       "7495              None            None    None      None  \n",
       "7496              None            None    None      None  \n",
       "7497              None            None    None      None  \n",
       "7498              None            None    None      None  \n",
       "7499              None            None    None      None  \n",
       "\n",
       "[7500 rows x 20 columns]"
      ]
     },
     "execution_count": 5,
     "metadata": {},
     "output_type": "execute_result"
    }
   ],
   "source": [
    "data"
   ]
  },
  {
   "cell_type": "code",
   "execution_count": 6,
   "id": "9ed90d82",
   "metadata": {},
   "outputs": [
    {
     "data": {
      "text/plain": [
       "shrimp               object\n",
       "almonds              object\n",
       "avocado              object\n",
       "vegetables mix       object\n",
       "green grapes         object\n",
       "whole weat flour     object\n",
       "yams                 object\n",
       "cottage cheese       object\n",
       "energy drink         object\n",
       "tomato juice         object\n",
       "low fat yogurt       object\n",
       "green tea            object\n",
       "honey                object\n",
       "salad                object\n",
       "mineral water        object\n",
       "salmon               object\n",
       "antioxydant juice    object\n",
       "frozen smoothie      object\n",
       "spinach              object\n",
       "olive oil            object\n",
       "dtype: object"
      ]
     },
     "execution_count": 6,
     "metadata": {},
     "output_type": "execute_result"
    }
   ],
   "source": [
    "data.dtypes"
   ]
  },
  {
   "cell_type": "markdown",
   "id": "a9a9c17c",
   "metadata": {},
   "source": [
    "### session"
   ]
  },
  {
   "cell_type": "code",
   "execution_count": 7,
   "id": "e4798263",
   "metadata": {},
   "outputs": [],
   "source": [
    "Session = sessionmaker(bind=engine)\n",
    "session = Session()\n",
    "\n",
    "Base = declarative_base()"
   ]
  },
  {
   "cell_type": "markdown",
   "id": "5f0edbf8",
   "metadata": {},
   "source": [
    "#### basic queries"
   ]
  },
  {
   "cell_type": "code",
   "execution_count": 8,
   "id": "d3293896",
   "metadata": {},
   "outputs": [],
   "source": [
    "from sqlalchemy import Column, String, Integer\n",
    "# create a table\n",
    "class Student(Base):\n",
    "    __tablename__ = 'student'\n",
    "    \n",
    "    id = Column(Integer, primary_key=True)\n",
    "    name = Column(String(50))\n",
    "    age = Column(Integer)\n",
    "    grade = Column(String(50))\n",
    "    \n",
    "Base.metadata.create_all(engine)\n",
    "# table is created"
   ]
  },
  {
   "cell_type": "code",
   "execution_count": 9,
   "id": "b3513b8e",
   "metadata": {},
   "outputs": [],
   "source": [
    "# Insert data\n",
    "student1 = Student(name=\"vijaya\",age=24, grade='Masters') # creating instance\n",
    "session.add(student1) # adding data to session ( single record)\n",
    "session.commit() # commit changes to DB"
   ]
  },
  {
   "cell_type": "code",
   "execution_count": 10,
   "id": "d61e98bd",
   "metadata": {},
   "outputs": [],
   "source": [
    "# Insert multiple data\n",
    "student2 = Student(name=\"vijaya1\",age=23, grade='Bachelors') # creating instance\n",
    "student3 = Student(name=\"vijaya2\",age=22, grade='Highschool') # creating instance\n",
    "\n",
    "session.add_all([student2, student3]) # adding data to session ( multiple record)\n",
    "session.commit() # commit changes to DB"
   ]
  },
  {
   "cell_type": "code",
   "execution_count": 11,
   "id": "df1b4819",
   "metadata": {},
   "outputs": [
    {
     "name": "stdout",
     "output_type": "stream",
     "text": [
      "vijaya 24 Masters\n",
      "vijaya1 23 Bachelors\n",
      "vijaya2 22 Highschool\n"
     ]
    }
   ],
   "source": [
    "# Query the table - read\n",
    "\n",
    "# get all the data\n",
    "students = session.query(Student)\n",
    "\n",
    "for student in students:\n",
    "    print(student.name, student.age, student.grade)"
   ]
  },
  {
   "cell_type": "code",
   "execution_count": 12,
   "id": "2489c260",
   "metadata": {},
   "outputs": [
    {
     "name": "stdout",
     "output_type": "stream",
     "text": [
      "vijaya\n",
      "vijaya1\n",
      "vijaya2\n"
     ]
    }
   ],
   "source": [
    "# get data in order\n",
    "students = session.query(Student).order_by(Student.name)\n",
    "\n",
    "for student in students:\n",
    "    print(student.name)"
   ]
  },
  {
   "cell_type": "code",
   "execution_count": 15,
   "id": "2e8ac3a7",
   "metadata": {},
   "outputs": [
    {
     "name": "stdout",
     "output_type": "stream",
     "text": [
      "vijaya\n",
      "vijaya1\n",
      "vijaya2\n",
      "vijaya2 22\n"
     ]
    }
   ],
   "source": [
    "# Get data by filtering\n",
    "student = session.query(Student).filter(Student.name==\"vijaya\").first()\n",
    "for student in students:\n",
    "    print(student.name)\n",
    "    \n",
    "    \n",
    "print(student.name, student.age)"
   ]
  },
  {
   "cell_type": "code",
   "execution_count": 20,
   "id": "4ecd0aac",
   "metadata": {},
   "outputs": [
    {
     "name": "stdout",
     "output_type": "stream",
     "text": [
      "vijaya 24\n",
      "vijaya1 23\n",
      "vijaya2 22\n"
     ]
    }
   ],
   "source": [
    "student = session.query(Student).filter(or_(Student.name==\"vijaya\", Student.name=='vijaya1'))\n",
    "\n",
    "for student in students:\n",
    "    print(student.name, student.age)\n"
   ]
  },
  {
   "cell_type": "code",
   "execution_count": 21,
   "id": "ef70e811",
   "metadata": {},
   "outputs": [
    {
     "name": "stdout",
     "output_type": "stream",
     "text": [
      "2\n"
     ]
    }
   ],
   "source": [
    "# count the results\n",
    "student_count = session.query(Student).filter(or_(Student.name==\"vijaya\", Student.name=='vijaya1')).count()\n",
    "\n",
    "print(student_count)"
   ]
  },
  {
   "cell_type": "code",
   "execution_count": 22,
   "id": "fc52de20",
   "metadata": {},
   "outputs": [],
   "source": [
    "# update data\n",
    "\n",
    "student = session.query(Student).filter(Student.name==\"vijaya\").first()\n",
    "student.name = \"laxmi\"\n",
    "session.commit()"
   ]
  },
  {
   "cell_type": "code",
   "execution_count": 23,
   "id": "8b570adc",
   "metadata": {},
   "outputs": [
    {
     "name": "stdout",
     "output_type": "stream",
     "text": [
      "laxmi 24 Masters\n",
      "vijaya1 23 Bachelors\n",
      "vijaya2 22 Highschool\n"
     ]
    }
   ],
   "source": [
    "# get all the data\n",
    "students = session.query(Student)\n",
    "\n",
    "for student in students:\n",
    "    print(student.name, student.age, student.grade)"
   ]
  },
  {
   "cell_type": "code",
   "execution_count": 24,
   "id": "7da91c20",
   "metadata": {},
   "outputs": [],
   "source": [
    "# Delete the data\n",
    "student = session.query(Student).filter(Student.name==\"vijaya1\").first()\n",
    "session.delete(student)\n",
    "session.commit()"
   ]
  },
  {
   "cell_type": "code",
   "execution_count": 25,
   "id": "91383cf7",
   "metadata": {},
   "outputs": [
    {
     "name": "stdout",
     "output_type": "stream",
     "text": [
      "laxmi 24 Masters\n",
      "vijaya2 22 Highschool\n"
     ]
    }
   ],
   "source": [
    "# get all the data\n",
    "students = session.query(Student)\n",
    "\n",
    "for student in students:\n",
    "    print(student.name, student.age, student.grade)"
   ]
  },
  {
   "cell_type": "code",
   "execution_count": null,
   "id": "f04bcf69",
   "metadata": {},
   "outputs": [],
   "source": []
  },
  {
   "cell_type": "code",
   "execution_count": null,
   "id": "94514327",
   "metadata": {},
   "outputs": [],
   "source": []
  }
 ],
 "metadata": {
  "kernelspec": {
   "display_name": "Python 3 (ipykernel)",
   "language": "python",
   "name": "python3"
  },
  "language_info": {
   "codemirror_mode": {
    "name": "ipython",
    "version": 3
   },
   "file_extension": ".py",
   "mimetype": "text/x-python",
   "name": "python",
   "nbconvert_exporter": "python",
   "pygments_lexer": "ipython3",
   "version": "3.9.7"
  }
 },
 "nbformat": 4,
 "nbformat_minor": 5
}
